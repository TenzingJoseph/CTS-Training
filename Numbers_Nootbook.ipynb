{
  "nbformat": 4,
  "nbformat_minor": 0,
  "metadata": {
    "colab": {
      "name": "Numbers Nootbook.ipynb",
      "provenance": [],
      "authorship_tag": "ABX9TyO2wXZ3/TZU2Ndiu8/0HsSi",
      "include_colab_link": true
    },
    "kernelspec": {
      "name": "python3",
      "display_name": "Python 3"
    },
    "language_info": {
      "name": "python"
    }
  },
  "cells": [
    {
      "cell_type": "markdown",
      "metadata": {
        "id": "view-in-github",
        "colab_type": "text"
      },
      "source": [
        "<a href=\"https://colab.research.google.com/github/TenzingJoseph/CTS-Training/blob/main/Numbers_Nootbook.ipynb\" target=\"_parent\"><img src=\"https://colab.research.google.com/assets/colab-badge.svg\" alt=\"Open In Colab\"/></a>"
      ]
    },
    {
      "cell_type": "code",
      "source": [
        "%%writefile gnum_script.py\n",
        "\n",
        "def find_greater():\n",
        "  x1 = input('Enter a number: ')\n",
        "  x2 = input('Enter another number: ')\n",
        "  if x1 > x2:\n",
        "    print('The larger number is '+x1)\n",
        "  else:\n",
        "    print('The larger number is '+x2)\n",
        "\n",
        "find_greater()"
      ],
      "metadata": {
        "colab": {
          "base_uri": "https://localhost:8080/"
        },
        "id": "m-npwpRtdJCX",
        "outputId": "93b171e2-e286-42eb-cd3f-3aca97a34248"
      },
      "execution_count": 6,
      "outputs": [
        {
          "output_type": "stream",
          "name": "stdout",
          "text": [
            "Writing gnum_script.py\n"
          ]
        }
      ]
    },
    {
      "cell_type": "code",
      "source": [
        "%%writefile snum_script.py\n",
        "\n",
        "def find_smaller():\n",
        "  x1 = input('Enter a number: ')\n",
        "  x2 = input('Enter another number: ')\n",
        "  if x1 < x2:\n",
        "    print('The smaller number is '+x1)\n",
        "  else:\n",
        "    print('The smaller number is '+x2)\n",
        "\n",
        "find_smaller()"
      ],
      "metadata": {
        "colab": {
          "base_uri": "https://localhost:8080/"
        },
        "id": "xZ7SLsSTeB1Q",
        "outputId": "a8925444-c91f-4e04-a299-6c429bc716aa"
      },
      "execution_count": 7,
      "outputs": [
        {
          "output_type": "stream",
          "name": "stdout",
          "text": [
            "Writing snum_script.py\n"
          ]
        }
      ]
    },
    {
      "cell_type": "code",
      "source": [
        ""
      ],
      "metadata": {
        "id": "pPBv3eWfeyFb"
      },
      "execution_count": null,
      "outputs": []
    }
  ]
}