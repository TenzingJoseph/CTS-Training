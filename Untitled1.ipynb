{
  "nbformat": 4,
  "nbformat_minor": 0,
  "metadata": {
    "colab": {
      "name": "Untitled1.ipynb",
      "provenance": [],
      "authorship_tag": "ABX9TyOHnzrUtYwwriCS41r7Mu8k",
      "include_colab_link": true
    },
    "kernelspec": {
      "name": "python3",
      "display_name": "Python 3"
    },
    "language_info": {
      "name": "python"
    }
  },
  "cells": [
    {
      "cell_type": "markdown",
      "metadata": {
        "id": "view-in-github",
        "colab_type": "text"
      },
      "source": [
        "<a href=\"https://colab.research.google.com/github/TenzingJoseph/CTS-Training/blob/main/Untitled1.ipynb\" target=\"_parent\"><img src=\"https://colab.research.google.com/assets/colab-badge.svg\" alt=\"Open In Colab\"/></a>"
      ]
    },
    {
      "cell_type": "code",
      "execution_count": 1,
      "metadata": {
        "colab": {
          "base_uri": "https://localhost:8080/"
        },
        "id": "hhyV4lEqbsW-",
        "outputId": "b3a882d2-e247-471d-c414-4513fafe0ab4"
      },
      "outputs": [
        {
          "output_type": "stream",
          "name": "stdout",
          "text": [
            "Writing script.py\n"
          ]
        }
      ],
      "source": [
        "%%writefile script.py\n",
        "\n",
        "print(\"Hello, World!\")"
      ]
    },
    {
      "cell_type": "code",
      "source": [
        "%%writefile -a script.py\n",
        "\n",
        "print('This is Tenzing here.')"
      ],
      "metadata": {
        "colab": {
          "base_uri": "https://localhost:8080/"
        },
        "id": "JVmYu_Ygb6mf",
        "outputId": "c6a4796d-3e65-4854-8fb0-b0fc11e42887"
      },
      "execution_count": 2,
      "outputs": [
        {
          "output_type": "stream",
          "name": "stdout",
          "text": [
            "Appending to script.py\n"
          ]
        }
      ]
    },
    {
      "cell_type": "code",
      "source": [
        ""
      ],
      "metadata": {
        "id": "ysWN1diScFOw"
      },
      "execution_count": null,
      "outputs": []
    }
  ]
}