{
 "cells": [
  {
   "cell_type": "code",
   "execution_count": 4,
   "id": "079d44e4",
   "metadata": {},
   "outputs": [
    {
     "name": "stdout",
     "output_type": "stream",
     "text": [
      "Writing script.py\n"
     ]
    }
   ],
   "source": [
    "%%writefile script.py\n",
    "\n",
    "print('Hello Shantanu!!')"
   ]
  },
  {
   "cell_type": "code",
   "execution_count": 5,
   "id": "8ca37fdc",
   "metadata": {},
   "outputs": [
    {
     "name": "stdout",
     "output_type": "stream",
     "text": [
      "Appending to script.py\n"
     ]
    }
   ],
   "source": [
    "%%writefile -a script.py\n",
    "\n",
    "print('This is Tenzing here')"
   ]
  },
  {
   "cell_type": "code",
   "execution_count": null,
   "id": "16a3b151",
   "metadata": {},
   "outputs": [],
   "source": []
  }
 ],
 "metadata": {
  "kernelspec": {
   "display_name": "Python 3 (ipykernel)",
   "language": "python",
   "name": "python3"
  },
  "language_info": {
   "codemirror_mode": {
    "name": "ipython",
    "version": 3
   },
   "file_extension": ".py",
   "mimetype": "text/x-python",
   "name": "python",
   "nbconvert_exporter": "python",
   "pygments_lexer": "ipython3",
   "version": "3.9.12"
  }
 },
 "nbformat": 4,
 "nbformat_minor": 5
}
